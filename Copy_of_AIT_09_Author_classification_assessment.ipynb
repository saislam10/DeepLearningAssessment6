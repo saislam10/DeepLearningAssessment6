{
  "nbformat": 4,
  "nbformat_minor": 0,
  "metadata": {
    "kernelspec": {
      "display_name": "Python 3",
      "language": "python",
      "name": "python3"
    },
    "language_info": {
      "codemirror_mode": {
        "name": "ipython",
        "version": 3
      },
      "file_extension": ".py",
      "mimetype": "text/x-python",
      "name": "python",
      "nbconvert_exporter": "python",
      "pygments_lexer": "ipython3",
      "version": "3.6.6"
    },
    "colab": {
      "provenance": [],
      "include_colab_link": true
    }
  },
  "cells": [
    {
      "cell_type": "markdown",
      "metadata": {
        "id": "view-in-github",
        "colab_type": "text"
      },
      "source": [
        "<a href=\"https://colab.research.google.com/github/saislam10/DeepLearningAssessment6/blob/main/Copy_of_AIT_09_Author_classification_assessment.ipynb\" target=\"_parent\"><img src=\"https://colab.research.google.com/assets/colab-badge.svg\" alt=\"Open In Colab\"/></a>"
      ]
    },
    {
      "cell_type": "markdown",
      "metadata": {
        "id": "_jiGtJu6u9ml"
      },
      "source": [
        "# Copyright\n",
        "\n",
        "<PRE>\n",
        "Copyright (c) 2023 Bálint Gyires-Tóth - All Rights Reserved\n",
        "You may use and modify this code for research and development purpuses.\n",
        "Use this code for educational purposes (self-paced or instructor led) without the permission of the author is prohibited.\n",
        "</PRE>"
      ]
    },
    {
      "cell_type": "markdown",
      "metadata": {
        "id": "oXyFC44jV-PP"
      },
      "source": [
        "# Author classification\n",
        "The task is to train a 1D CNN or an LSTM that is able to  classify text from two authors. The final model should be able to tell about a text with a given length (e.g. 60 characters) who wrote it. \n",
        "\n",
        "Please write the codes according to the following parts:"
      ]
    },
    {
      "cell_type": "markdown",
      "metadata": {
        "id": "jCnLoeGrHXsp"
      },
      "source": [
        "## Python module imports\n",
        "Import all Python modules that you would need during the Assignment."
      ]
    },
    {
      "cell_type": "code",
      "metadata": {
        "id": "7itbFGt3HXVT"
      },
      "source": [
        "import numpy as np\n",
        "import requests\n",
        "from bs4 import BeautifulSoup\n",
        "import re\n",
        "from keras.preprocessing.text import Tokenizer\n",
        "from sklearn.model_selection import train_test_split\n",
        "from keras.models import Sequential\n",
        "from keras.layers import Embedding, LSTM, Dense\n",
        "from keras.callbacks import EarlyStopping\n"
      ],
      "execution_count": 32,
      "outputs": []
    },
    {
      "cell_type": "markdown",
      "metadata": {
        "id": "Hr617tEpHd8R"
      },
      "source": [
        "## Data acquisition\n",
        "Seek a possible dataset, you can use any source, e.g.\n",
        "* http://www.gutenberg.org/\n",
        "* https://www.kaggle.com/datasets\n",
        "* https://paperswithcode.com/datasets\n",
        "* if you would like to learn Hungarian, than e.g. https://mek.oszk.hu/\n",
        "\n",
        "You can download the text by hand (e.g. by copy-pasting some parts into txt files) or with Python. "
      ]
    },
    {
      "cell_type": "code",
      "metadata": {
        "id": "NgkdQxHqHdZB"
      },
      "source": [
        "poe_url = \"https://www.gutenberg.org/files/2147/2147-0.txt\"\n",
        "lovecraft_url = \"https://www.gutenberg.org/files/40637/40637-0.txt\"\n",
        "\n",
        "poe_text = requests.get(poe_url).text\n",
        "lovecraft_text = requests.get(lovecraft_url).text"
      ],
      "execution_count": 33,
      "outputs": []
    },
    {
      "cell_type": "code",
      "source": [
        "# Clean the texts\n",
        "def clean_text(text):\n",
        "    soup = BeautifulSoup(text, \"html.parser\")\n",
        "    text = soup.get_text()\n",
        "    text = re.sub(r'\\s+', ' ', text)\n",
        "    text = text.strip().lower()\n",
        "    return text\n",
        "\n",
        "poe_text = clean_text(poe_text)\n",
        "lovecraft_text = clean_text(lovecraft_text)\n",
        "\n",
        "# Combine the texts and tokenize the characters\n",
        "texts = [poe_text, lovecraft_text]\n",
        "labels = [0, 1]  # 0 for Poe, 1 for Lovecraft\n",
        "\n",
        "tokenizer = Tokenizer(char_level=True)\n",
        "tokenizer.fit_on_texts(texts)\n",
        "alphabet_length = len(tokenizer.word_index)\n",
        "\n",
        "sequences = tokenizer.texts_to_sequences(texts)"
      ],
      "metadata": {
        "id": "rqJJqa02jB6c"
      },
      "execution_count": 34,
      "outputs": []
    },
    {
      "cell_type": "markdown",
      "source": [
        "## Data analysis\n",
        "Count the number of characters from both authors and display them on a plot (e.g. Seaborn's countplot)."
      ],
      "metadata": {
        "id": "U9Pmq91t3SRD"
      }
    },
    {
      "cell_type": "code",
      "source": [
        "import matplotlib.pyplot as plt\n",
        "import seaborn as sns\n",
        "\n",
        "# Count the number of characters for each author\n",
        "num_chars_poe = len(poe_text)\n",
        "num_chars_lovecraft = len(lovecraft_text)\n",
        "\n",
        "# Display the counts on a Seaborn countplot\n",
        "authors = ['Poe', 'Lovecraft']\n",
        "char_counts = [num_chars_poe, num_chars_lovecraft]\n",
        "\n",
        "sns.barplot(x=authors, y=char_counts)\n",
        "plt.ylabel('Number of Characters')\n",
        "plt.title('Character Count by Author')\n",
        "plt.show()\n"
      ],
      "metadata": {
        "id": "uRqGdn4F3Spk",
        "colab": {
          "base_uri": "https://localhost:8080/",
          "height": 452
        },
        "outputId": "e1086027-ff13-4679-84bc-ae2d98d1a873"
      },
      "execution_count": 35,
      "outputs": [
        {
          "output_type": "display_data",
          "data": {
            "text/plain": [
              "<Figure size 640x480 with 1 Axes>"
            ],
            "image/png": "[encoded data removed]"
          },
          "metadata": {}
        }
      ]
    },
    {
      "cell_type": "markdown",
      "metadata": {
        "id": "cHyE_ndGIblJ"
      },
      "source": [
        "## Data loading, labeling and preprocessing\n",
        "Load the data and convert the characters into one-hot encodings. Then load the data into a 3D NumPy array, with a shape of\n",
        "\n",
        "* (batch, sequence_length, alphabet_length)\n",
        "\n",
        "where sequence_length=60, and alphabet_length equals to the number of unique characters in both datasets. The sequences should be cut out from the complete dataset by sliding window. You should add 0 and 1 labels to the sequences, according to the author. \n",
        "\n",
        "Later you may change sequence_length to achieve better results!"
      ]
    },
    {
      "cell_type": "code",
      "source": [
        "# Sliding window function\n",
        "def sliding_window(text, label, sequence_length):\n",
        "    num_sequences = len(text) - sequence_length + 1\n",
        "    X = np.zeros((num_sequences, sequence_length))\n",
        "    y = np.zeros((num_sequences, 1))\n",
        "\n",
        "    for i in range(num_sequences):\n",
        "        X[i, :] = text[i:i + sequence_length]\n",
        "        y[i] = label\n",
        "\n",
        "    return X, y\n",
        "\n",
        "# Generate sequences and labels for both authors using the sliding window\n",
        "sequence_length = 60\n",
        "\n",
        "X_poe, y_poe = sliding_window(sequences[0], labels[0], sequence_length)\n",
        "X_lovecraft, y_lovecraft = sliding_window(sequences[1], labels[1], sequence_length)\n",
        "\n",
        "X = np.concatenate([X_poe, X_lovecraft], axis=0)\n",
        "y = np.concatenate([y_poe, y_lovecraft], axis=0)\n"
      ],
      "metadata": {
        "id": "7jp4O9ALgKK3"
      },
      "execution_count": 36,
      "outputs": []
    },
    {
      "cell_type": "markdown",
      "metadata": {
        "id": "lL1Mc8ibHnep"
      },
      "source": [
        "## Data splitting\n",
        "Split the data into train, validate and test sets. Make "
      ]
    },
    {
      "cell_type": "code",
      "source": [
        "# Split the tokenized data into train, validation, and test sets\n",
        "X_tokenized_train, X_tokenized_temp, y_train, y_temp = train_test_split(X, y, test_size=0.3, random_state=42)\n",
        "X_tokenized_val, X_tokenized_test, y_val, y_test = train_test_split(X_tokenized_temp, y_temp, test_size=0.5, random_state=42)"
      ],
      "metadata": {
        "id": "l532Exg0dfzh"
      },
      "execution_count": 37,
      "outputs": []
    },
    {
      "cell_type": "markdown",
      "metadata": {
        "id": "hA8U9tr7HrNQ"
      },
      "source": [
        "## Model definition\n",
        "Define a 1D CNN or an LSTM for the task. Compile the model with the correct loss function."
      ]
    },
    {
      "cell_type": "code",
      "metadata": {
        "id": "BT1V1s4kHuUe"
      },
      "source": [
        "# Define the LSTM model with the Embedding layer\n",
        "def build_lstm_model(sequence_length, alphabet_length):\n",
        "    model = Sequential()\n",
        "    model.add(Embedding(alphabet_length + 1, 32, input_length=sequence_length))\n",
        "    model.add(LSTM(64, dropout=0.2, recurrent_dropout=0.2))\n",
        "    model.add(Dense(1, activation='sigmoid'))\n",
        "    return model\n",
        "\n",
        "model = build_lstm_model(sequence_length, alphabet_length)\n"
      ],
      "execution_count": 38,
      "outputs": []
    },
    {
      "cell_type": "markdown",
      "metadata": {
        "id": "hWFb-nAMHuAI"
      },
      "source": [
        "## Model training\n",
        "Train the model and apply early stopping."
      ]
    },
    {
      "cell_type": "code",
      "metadata": {
        "id": "dvgKjqp3Hwkp",
        "colab": {
          "base_uri": "https://localhost:8080/"
        },
        "outputId": "1adcfeef-7a20-46ac-a720-91c44be64761"
      },
      "source": [
        "# Compile the model with the correct loss function\n",
        "model.compile(loss='binary_crossentropy', optimizer='adam', metrics=['accuracy'])\n",
        "\n",
        "# Train the model and apply early stopping\n",
        "early_stopping = EarlyStopping(monitor='val_loss', patience=3, restore_best_weights=True)\n",
        "\n",
        "history = model.fit(X_tokenized_train, y_train,\n",
        "                    validation_data=(X_tokenized_val, y_val),\n",
        "                    epochs=10, batch_size=512,\n",
        "                    callbacks=[early_stopping])\n"
      ],
      "execution_count": 41,
      "outputs": [
        {
          "output_type": "stream",
          "name": "stdout",
          "text": [
            "Epoch 1/10\n",
            "1175/1175 [==============================] - 635s 536ms/step - loss: 0.1092 - accuracy: 0.9643 - val_loss: 0.0854 - val_accuracy: 0.9705\n",
            "Epoch 2/10\n",
            "1175/1175 [==============================] - 601s 512ms/step - loss: 0.0729 - accuracy: 0.9734 - val_loss: 0.0655 - val_accuracy: 0.9762\n",
            "Epoch 3/10\n",
            "1175/1175 [==============================] - 610s 519ms/step - loss: 0.0632 - accuracy: 0.9753 - val_loss: 0.0590 - val_accuracy: 0.9762\n",
            "Epoch 4/10\n",
            "1175/1175 [==============================] - 614s 523ms/step - loss: 0.0583 - accuracy: 0.9759 - val_loss: 0.0517 - val_accuracy: 0.9767\n",
            "Epoch 5/10\n",
            "1175/1175 [==============================] - 611s 520ms/step - loss: 0.0524 - accuracy: 0.9765 - val_loss: 0.0457 - val_accuracy: 0.9774\n",
            "Epoch 6/10\n",
            "1175/1175 [==============================] - 614s 523ms/step - loss: 0.0475 - accuracy: 0.9770 - val_loss: 0.0415 - val_accuracy: 0.9777\n",
            "Epoch 7/10\n",
            "1175/1175 [==============================] - 609s 518ms/step - loss: 0.0436 - accuracy: 0.9773 - val_loss: 0.0376 - val_accuracy: 0.9782\n",
            "Epoch 8/10\n",
            "1175/1175 [==============================] - 607s 516ms/step - loss: 0.0402 - accuracy: 0.9778 - val_loss: 0.0360 - val_accuracy: 0.9773\n",
            "Epoch 9/10\n",
            "1175/1175 [==============================] - 611s 520ms/step - loss: 0.0381 - accuracy: 0.9780 - val_loss: 0.0335 - val_accuracy: 0.9782\n",
            "Epoch 10/10\n",
            "1175/1175 [==============================] - 608s 517ms/step - loss: 0.0362 - accuracy: 0.9785 - val_loss: 0.0324 - val_accuracy: 0.9783\n"
          ]
        }
      ]
    },
    {
      "cell_type": "markdown",
      "metadata": {
        "id": "0omw2XzSHwOo"
      },
      "source": [
        "## Evaluation on test data\n",
        "Evaluate the model on the test data in terms of loss and accuracy."
      ]
    },
    {
      "cell_type": "code",
      "metadata": {
        "id": "4bF3dQA1Hv_R",
        "colab": {
          "base_uri": "https://localhost:8080/"
        },
        "outputId": "a8603ec8-701d-4c7d-9f37-df39f3f027da"
      },
      "source": [
        "# Evaluate the model on the test data\n",
        "loss, accuracy = model.evaluate(X_tokenized_test, y_test)\n",
        "print(f\"Test loss: {loss:.4f}, Test accuracy: {accuracy:.4f}\")"
      ],
      "execution_count": 43,
      "outputs": [
        {
          "output_type": "stream",
          "name": "stdout",
          "text": [
            "4027/4027 [==============================] - 81s 20ms/step - loss: 0.0316 - accuracy: 0.9787\n",
            "Test loss: 0.0316, Test accuracy: 0.9787\n"
          ]
        }
      ]
    },
    {
      "cell_type": "markdown",
      "metadata": {
        "id": "4Y73Q-h5Hz1r"
      },
      "source": [
        "## Confusion matrix\n",
        "Calculate and display the confusion matrix."
      ]
    },
    {
      "cell_type": "code",
      "metadata": {
        "id": "cW8zZi1uJm2B",
        "colab": {
          "base_uri": "https://localhost:8080/",
          "height": 489
        },
        "outputId": "44b6a635-fae0-4e14-a218-a8d498f7308c"
      },
      "source": [
        "from sklearn.metrics import confusion_matrix\n",
        "\n",
        "# Predict labels for the test data\n",
        "y_pred_proba = model.predict(X_tokenized_test)\n",
        "y_pred = np.round(y_pred_proba).astype(int)\n",
        "\n",
        "# Calculate the confusion matrix\n",
        "cm = confusion_matrix(y_test, y_pred)\n",
        "\n",
        "# Display the confusion matrix as a heatmap\n",
        "sns.heatmap(cm, annot=True, fmt='d', cmap='Blues', xticklabels=authors, yticklabels=authors)\n",
        "plt.xlabel('Predicted')\n",
        "plt.ylabel('True')\n",
        "plt.title('Confusion Matrix')\n",
        "plt.show()\n"
      ],
      "execution_count": 45,
      "outputs": [
        {
          "output_type": "stream",
          "name": "stdout",
          "text": [
            "4027/4027 [==============================] - 64s 16ms/step\n"
          ]
        },
        {
          "output_type": "display_data",
          "data": {
            "text/plain": [
              "<Figure size 640x480 with 2 Axes>"
            ],
            "image/png": "[encoded data removed]"
          },
          "metadata": {}
        }
      ]
    },
    {
      "cell_type": "code",
      "source": [
        "summary = (f\"We trained a deep learning model to classify text from two authors, Edgar Allan Poe and H.P. Lovecraft, \"\n",
        "           f\"based on input sequences of 60 characters. After downloading and preprocessing the text from each author, \"\n",
        "           f\"we tokenized the characters and generated sequences using a sliding window approach. We built and trained \"\n",
        "           f\"an LSTM model with an embedding layer on the tokenized sequences and applied early stopping during training \"\n",
        "           f\"to prevent overfitting. We evaluated the model's performance on a test dataset and obtained a test loss \"\n",
        "           f\"of {loss:.4f} and a test accuracy of {accuracy:.4f}. A confusion matrix was displayed to visualize the \"\n",
        "           f\"classification results.\")\n",
        "print(summary)\n"
      ],
      "metadata": {
        "colab": {
          "base_uri": "https://localhost:8080/"
        },
        "id": "KPoF8atT25PE",
        "outputId": "1642233e-be6a-4537-e539-366a29ecc5fa"
      },
      "execution_count": 46,
      "outputs": [
        {
          "output_type": "stream",
          "name": "stdout",
          "text": [
            "We trained a deep learning model to classify text from two authors, Edgar Allan Poe and H.P. Lovecraft, based on input sequences of 60 characters. After downloading and preprocessing the text from each author, we tokenized the characters and generated sequences using a sliding window approach. We built and trained an LSTM model with an embedding layer on the tokenized sequences and applied early stopping during training to prevent overfitting. We evaluated the model's performance on a test dataset and obtained a test loss of 0.0316 and a test accuracy of 0.9787. A confusion matrix was displayed to visualize the classification results.\n"
          ]
        }
      ]
    }
  ]
}